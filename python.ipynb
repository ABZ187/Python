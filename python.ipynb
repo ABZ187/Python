{
 "cells": [
  {
   "cell_type": "code",
   "execution_count": 7,
   "id": "7dcd102b",
   "metadata": {},
   "outputs": [
    {
     "data": {
      "text/plain": [
       "{-1, 0, 1, 4, 9}"
      ]
     },
     "execution_count": 7,
     "metadata": {},
     "output_type": "execute_result"
    }
   ],
   "source": [
    "set1 = {1,0,-1,4,9,1}\n",
    "set1"
   ]
  },
  {
   "cell_type": "code",
   "execution_count": 16,
   "id": "3726cf9a",
   "metadata": {},
   "outputs": [
    {
     "name": "stdout",
     "output_type": "stream",
     "text": [
      "<class 'set'> \n",
      " <class 'set_iterator'>\n",
      "0\n",
      "1\n",
      "4\n"
     ]
    }
   ],
   "source": [
    "itera1= iter(set1)#convert set object to an iterator\n",
    "print(type(set1),\"\\n\",type(itera1))\n",
    "print(next(itera1)) #iterate \n",
    "print(next(itera1))\n",
    "print(next(itera1))"
   ]
  },
  {
   "cell_type": "code",
   "execution_count": 4,
   "id": "2a45b0da",
   "metadata": {},
   "outputs": [
    {
     "data": {
      "text/plain": [
       "11"
      ]
     },
     "execution_count": 4,
     "metadata": {},
     "output_type": "execute_result"
    }
   ],
   "source": [
    "import numpy as np\n",
    "# @ for matrix multiplication\n",
    "m1 = np.array([1,2,3])\n",
    "m2 = np.array([2,3,1])\n",
    "m1 @ m2.T "
   ]
  },
  {
   "cell_type": "code",
   "execution_count": null,
   "id": "40d06814",
   "metadata": {},
   "outputs": [],
   "source": []
  }
 ],
 "metadata": {
  "kernelspec": {
   "display_name": "Python 3 (ipykernel)",
   "language": "python",
   "name": "python3"
  },
  "language_info": {
   "codemirror_mode": {
    "name": "ipython",
    "version": 3
   },
   "file_extension": ".py",
   "mimetype": "text/x-python",
   "name": "python",
   "nbconvert_exporter": "python",
   "pygments_lexer": "ipython3",
   "version": "3.9.6"
  }
 },
 "nbformat": 4,
 "nbformat_minor": 5
}
