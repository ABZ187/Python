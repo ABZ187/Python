{
 "cells": [
  {
   "cell_type": "markdown",
   "metadata": {},
   "source": [
    "### Model :(MPNet) Masked and Permuted Pre-training model for langauge understanding"
   ]
  },
  {
   "cell_type": "code",
   "execution_count": 1,
   "metadata": {},
   "outputs": [],
   "source": [
    "from sentence_transformers import SentenceTransformer, util\n",
    "embeddding_model = SentenceTransformer(\"all-mpnet-base-v2\")"
   ]
  },
  {
   "cell_type": "markdown",
   "metadata": {},
   "source": [
    "### Embeds text into a 768 dimension long vector(array)"
   ]
  },
  {
   "cell_type": "code",
   "execution_count": 27,
   "metadata": {},
   "outputs": [
    {
     "name": "stdout",
     "output_type": "stream",
     "text": [
      "Type <class 'numpy.ndarray'>\n",
      "Size 768\n"
     ]
    }
   ],
   "source": [
    "#If normalize_embeddings = True, euclidean norm is used by default\n",
    "embed = embeddding_model.encode(\"He is a happy person,\")\n",
    "print(f\"Type {type(embed)}\\nSize {embed.size}\")"
   ]
  },
  {
   "cell_type": "code",
   "execution_count": 33,
   "metadata": {},
   "outputs": [
    {
     "name": "stdout",
     "output_type": "stream",
     "text": [
      "Cosine simlarity tensor([[0.5904]])\n",
      "Dot prodoct tensor([[0.5904]])\n"
     ]
    }
   ],
   "source": [
    "embed2 = embeddding_model.encode(\"He is a jolly guy\")\n",
    "cs = util.cos_sim(embed,embed2)\n",
    "ds = util.dot_score(embed,embed2)\n",
    "print(f\"Cosine simlarity {cs}\\nDot prodoct {ds}\")"
   ]
  }
 ],
 "metadata": {
  "kernelspec": {
   "display_name": "Python 3",
   "language": "python",
   "name": "python3"
  },
  "language_info": {
   "codemirror_mode": {
    "name": "ipython",
    "version": 3
   },
   "file_extension": ".py",
   "mimetype": "text/x-python",
   "name": "python",
   "nbconvert_exporter": "python",
   "pygments_lexer": "ipython3",
   "version": "3.10.8"
  }
 },
 "nbformat": 4,
 "nbformat_minor": 2
}
